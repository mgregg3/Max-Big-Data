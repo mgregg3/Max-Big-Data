{
 "cells": [
  {
   "cell_type": "markdown",
   "metadata": {},
   "source": [
    "## Do Movies that Fail the Bechdel Test Really Make More Money than Movies that Pass?"
   ]
  },
  {
   "cell_type": "markdown",
   "metadata": {},
   "source": [
    "Introduction:  In this lab I am going to find the average domestic and international income for movies that pass the Bechdel test and movies that fail.  I will compare these results with the number of movies in the top 500 internationally grossing to determine if the Bechdel test really does matter in how much money Movies make."
   ]
  },
  {
   "cell_type": "code",
   "execution_count": 219,
   "metadata": {
    "collapsed": false
   },
   "outputs": [],
   "source": [
    "import csv\n",
    "\n",
    "#create a list telling me the number of movies that pass the Bechdel test\n",
    "f = open(\"movies.csv\")\n",
    "csv_f = csv.reader(f)\n",
    "num_pass = (sum(1 for row in csv_f if row[5]=='PASS'))\n",
    "\n",
    "#create a list telling me the number of movies that fail the Bechdel test\n",
    "f = open(\"movies.csv\")\n",
    "csv_f = csv.reader(f)\n",
    "num_fail = (sum(1 for row in csv_f if row[5]=='FAIL'))\n",
    "\n",
    "#create a list telling me the total budget of all the movies that pass the Bechdel test\n",
    "f = open(\"movies.csv\")\n",
    "csv_f = csv.reader(f)\n",
    "bud_pass = (sum(int(row[10]) for row in csv_f if row[5]=='PASS'))\n",
    "\n",
    "#create a list telling me the total budget of all the movies that fail the Bechdel test\n",
    "f = open(\"movies.csv\")\n",
    "csv_f = csv.reader(f)\n",
    "bud_fail = (sum(int(row[10]) for row in csv_f if row[5]=='FAIL'))\n",
    "\n",
    "#create a list telling me the total domestic revenue for all the movies that pass the Bechdel test\n",
    "f = open(\"movies.csv\")\n",
    "csv_f = csv.reader(f)\n",
    "dom_pass = (sum(int(row[11]) for row in csv_f if row[5]=='PASS'))\n",
    "\n",
    "#create a list telling me the total international revenue for all the movies that pass the Bechdel test\n",
    "f = open(\"movies.csv\")\n",
    "csv_f = csv.reader(f)\n",
    "int_pass = (sum(int(row[12]) for row in csv_f if row[5]=='PASS'))\n",
    "\n",
    "#create a list telling me the total domestic revenue for all the movies that fail the Bechdel test\n",
    "f = open(\"movies.csv\")\n",
    "csv_f = csv.reader(f)\n",
    "dom_fail = (sum(int(row[11]) for row in csv_f if row[5]=='FAIL'))\n",
    "\n",
    "#create a list telling me the total international revenue for all the movies that fail the Bechdel test\n",
    "f = open(\"movies.csv\")\n",
    "csv_f = csv.reader(f)\n",
    "int_fail = (sum(int(row[12]) for row in csv_f if row[5]=='FAIL'))"
   ]
  },
  {
   "cell_type": "code",
   "execution_count": 235,
   "metadata": {
    "collapsed": false
   },
   "outputs": [],
   "source": [
    "#find the average budget and revenue per movie that either fail or pass the Bechdel test\n",
    "avg_bud_pass = bud_pass/num_pass\n",
    "avg_bud_fail = bud_fail/num_fail\n",
    "avg_dom_pass = dom_pass/num_pass\n",
    "avg_int_pass = int_pass/num_pass\n",
    "avg_dom_fail = dom_fail/num_fail\n",
    "avg_int_fail = int_fail/num_fail\n",
    "avg_inc_fail = (avg_dom_fail-avg_bud_fail)+(avg_int_fail-avg_bud_fail)\n",
    "avg_inc_pass = (avg_dom_pass-avg_bud_pass)+(avg_int_pass-avg_bud_pass)"
   ]
  },
  {
   "cell_type": "code",
   "execution_count": 236,
   "metadata": {
    "collapsed": false
   },
   "outputs": [
    {
     "name": "stdout",
     "output_type": "stream",
     "text": [
      "Average total domestic income for movies that pass the Bechdel test: 32696165.829573937\n",
      "Average total domestic income for movies that fail the Bechdel test: 44241834.608121835\n",
      "Average total international income for movies that pass the Bechdel test: 120863175.13784462\n",
      "Average total international income for movies that fail the Bechdel test: 159325528.15126902\n"
     ]
    }
   ],
   "source": [
    "#find the avaerage total domestic and international revenue per movie for movies that pass or fail the Bechdel test\n",
    "print(\"Average total domestic income for movies that pass the Bechdel test:\", avg_dom_pass-avg_bud_pass)\n",
    "print(\"Average total domestic income for movies that fail the Bechdel test:\", avg_dom_fail-avg_bud_fail)\n",
    "print(\"Average total international income for movies that pass the Bechdel test:\", avg_int_pass-avg_bud_pass)\n",
    "print(\"Average total international income for movies that fail the Bechdel test:\", avg_int_fail-avg_bud_fail)"
   ]
  },
  {
   "cell_type": "code",
   "execution_count": 237,
   "metadata": {
    "collapsed": false
   },
   "outputs": [
    {
     "name": "stdout",
     "output_type": "stream",
     "text": [
      "On average, movies that fail the Bechdel test make 50008021.79197231 more revenue than movies that pass.\n"
     ]
    }
   ],
   "source": [
    "#find how much more revenue movies that fail the Bechdel test make than movies that pass\n",
    "print(\"On average, movies that fail the Bechdel test make\", avg_inc_fail-avg_inc_pass, \"more revenue than movies that pass.\")"
   ]
  },
  {
   "cell_type": "code",
   "execution_count": 234,
   "metadata": {
    "collapsed": false
   },
   "outputs": [
    {
     "name": "stdout",
     "output_type": "stream",
     "text": [
      "184 = number of movies in the top 500 internationally grossing films that pass the Bechdel test\n",
      "316 = number of movies in the top 500 internationally grossing films that fail the Bechdel test\n"
     ]
    }
   ],
   "source": [
    "data_file = open(\"movies2.csv\")\n",
    "hundred_list = []\n",
    "for ii in data_file:\n",
    "    ii=ii.split(\",\")\n",
    "    hundred_list.append(ii);\n",
    "\n",
    "passcount = 0\n",
    "failcount = 0\n",
    "for i in range(1, 501):\n",
    "    if(hundred_list[i][5] == \"PASS\"):\n",
    "        passcount += 1\n",
    "    else: \n",
    "        failcount += 1\n",
    "print(passcount, \"= number of movies in the top 500 internationally grossing films that pass the Bechdel test\")\n",
    "print(failcount, \"= number of movies in the top 500 internationally grossing films that fail the Bechdel test\")\n",
    "\n"
   ]
  },
  {
   "cell_type": "markdown",
   "metadata": {
    "collapsed": true
   },
   "source": [
    "In conclusion, Movies that fail the Bechdel test make more money on average than movies that pass the test.  Although this is true, there are other factors that I did not test for that could be the reason for this inequity that have nothing to do with the characters gender.  One major factor is there are more major movies that fail the test than pass the test.  The major movies are the movies that make the most revenue in the movie business.  Because more movies fail than pass in the major grossing movies, those movies make larger margins of profit since they are bigger names.  This could be a confounding correlation in that the movies that fail could possibly make more because there are more of them or because they fail.  I cannot prove one or the other based on the work I have done but I think the fact that most of the most successful movies fail the test this is more of a cause for the inequity than passing or failing the Bechdel test.\n",
    "\n",
    "Final statement:  Movies that fail the Bechdel test make more money on average than movies that pass the test, although, this correlation is most likely not a causation and a non-factor in average revenue of films."
   ]
  }
 ],
 "metadata": {
  "kernelspec": {
   "display_name": "Python 3",
   "language": "python",
   "name": "python3"
  },
  "language_info": {
   "codemirror_mode": {
    "name": "ipython",
    "version": 3
   },
   "file_extension": ".py",
   "mimetype": "text/x-python",
   "name": "python",
   "nbconvert_exporter": "python",
   "pygments_lexer": "ipython3",
   "version": "3.5.1"
  }
 },
 "nbformat": 4,
 "nbformat_minor": 0
}
