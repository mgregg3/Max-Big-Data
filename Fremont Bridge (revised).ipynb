{
 "cells": [
  {
   "cell_type": "markdown",
   "metadata": {},
   "source": [
    "# How Many Bikes Cross the Fremont Bridge on a Friday in July"
   ]
  },
  {
   "cell_type": "markdown",
   "metadata": {},
   "source": [
    "In this Lab I am going to explore the amount of bikes crossing the fremont bridge on any given Friday in July.  I am going to do this using data given to me and for loops and while loops.  What I am trying to acomplish is a accurate prediction for the amount of bikes that will cross the bridge on that friday.  I will use the data from past fridays in July to find this prediction."
   ]
  },
  {
   "cell_type": "code",
   "execution_count": 3,
   "metadata": {
    "collapsed": false
   },
   "outputs": [
    {
     "name": "stdout",
     "output_type": "stream",
     "text": [
      "73.76331360946746 : average number of bikes crossing the fremont bridge on the west side per hour\n",
      "77.01183431952663 : average number of bikes crossing the fremont bridge on the east side per hour\n",
      "1 : the mode of bikes that cross the fremont bridge on the west side per hour\n",
      "There is no unique mode for bikes crossing the fremont bridge on the east side per hour\n",
      "47 : the median number of bikes that cross the fremont bridge from the west side per hour\n",
      "53 : the median number of bikes that cross the fremont bridge from the east side per hour\n"
     ]
    }
   ],
   "source": [
    "import numpy\n",
    "import matplotlib.pyplot as plt\n",
    "import statistics as stat\n",
    "%matplotlib inline\n",
    "\n",
    "\n",
    "data_file = open(\"FreBridge.csv\", \"r\");\n",
    "#create an empty list to store the data\n",
    "data_list = [];\n",
    "#put all lines from the file into a list\n",
    "for ii in data_file:\n",
    "    data_list.append(ii);\n",
    "\n",
    "#remove the first element (column header)\n",
    "del data_list[0];\n",
    "#create empty lists for westbound and eastbound bikes\n",
    "west = [];\n",
    "east = [];    \n",
    "for jj in range(len(data_list)):\n",
    "    #strip off the \\n (newline)\n",
    "    data_list[jj] = data_list[jj].replace(\"\\n\", \"\");\n",
    "    #make into a list of lists of just numbers\n",
    "    data_list[jj] = data_list[jj].split(\",\");\n",
    "    #add data to specific lists for west and east\n",
    "    west.append(int(data_list[jj][1]));\n",
    "    east.append(int(data_list[jj][2]));\n",
    "\n",
    "#print(west);\n",
    "#print(east)\n",
    "print(stat.mean(west), \": average number of bikes crossing the fremont bridge on the west side per hour\")\n",
    "print(stat.mean(east), \": average number of bikes crossing the fremont bridge on the east side per hour\")\n",
    "print(stat.mode(west), \": the mode of bikes that cross the fremont bridge on the west side per hour\") \n",
    "try:\n",
    "    print(stat.mode(east))\n",
    "except:\n",
    "    print(\"There is no unique mode for bikes crossing the fremont bridge on the east side per hour\")\n",
    "print(stat.median(west), \": the median number of bikes that cross the fremont bridge from the west side per hour\")\n",
    "print(stat.median(east), \": the median number of bikes that cross the fremont bridge from the east side per hour\")\n"
   ]
  },
  {
   "cell_type": "markdown",
   "metadata": {},
   "source": [
    "I think the mean gives more important and accurate representation of the data because looking at the chart it has high points and low points but the average of the normal times of day seem to be about 60-80 which is closer to the means than the medians."
   ]
  },
  {
   "cell_type": "code",
   "execution_count": 4,
   "metadata": {
    "collapsed": false,
    "scrolled": true
   },
   "outputs": [
    {
     "name": "stdout",
     "output_type": "stream",
     "text": [
      "Histogram displaying the number of bikers going east\n"
     ]
    },
    {
     "data": {
      "image/png": "[encoded data removed]",
      "text/plain": [
       "<matplotlib.figure.Figure at 0x10512c320>"
      ]
     },
     "metadata": {},
     "output_type": "display_data"
    }
   ],
   "source": [
    "#Here is a Histogram displaying the number of bikers going east\n",
    "plt.hist(east)\n",
    "print(\"Histogram displaying the number of bikers going east\")"
   ]
  },
  {
   "cell_type": "code",
   "execution_count": 78,
   "metadata": {
    "collapsed": false
   },
   "outputs": [],
   "source": [
    "import numpy\n",
    "import matplotlib.pyplot as plt\n",
    "import statistics as stat\n",
    "%matplotlib inline\n",
    "\n",
    "#Max Gregg, Big Data, 1/28/16\n",
    "#open and save the file for reading\n",
    "data_file = open(\"FreBridge3.csv\", \"r\");\n",
    "#create an empty list to store the data\n",
    "data_list = [];\n",
    "#put all lines from the file into a list\n",
    "for ii in data_file:\n",
    "    data_list.append(ii);\n",
    "\n",
    "#remove the first element (column header)\n",
    "del data_list[0];\n",
    "#create empty lists for west, east, and dates\n",
    "date = [];\n",
    "west = [];\n",
    "east = [];\n",
    "\n",
    "\n",
    "for jj in range(len(data_list)):\n",
    "    #strip off the \\n (newline)\n",
    "    data_list[jj] = data_list[jj].replace(\"\\n\", \"\");\n",
    "    #make into a list of lists of just numbers\n",
    "    data_list[jj] = data_list[jj].split(\",\");\n",
    "    #add data to specific lists for west and east\n",
    "    date.append(str(data_list[jj][0]));\n",
    "    west.append(int(data_list[jj][1]));\n",
    "    east.append(int(data_list[jj][2]));\n",
    "\n"
   ]
  },
  {
   "cell_type": "code",
   "execution_count": 79,
   "metadata": {
    "collapsed": false,
    "scrolled": true
   },
   "outputs": [
    {
     "name": "stdout",
     "output_type": "stream",
     "text": [
      "1833 = average number of bikes going west on the fremont bridge on a Friday in July\n",
      "1838 = average number of bikes going east on the fremont bridge on a Friday in July\n",
      "3671 = average number of bikes crossing the Fremont bridge on a Friday in July\n"
     ]
    }
   ],
   "source": [
    "import math\n",
    "#find the first friday\n",
    "count = 0;\n",
    "friday = \"12/25/15\";\n",
    "while(date[count] != friday):\n",
    "    count = count + 1\n",
    "\n",
    "#create empty list for fridays in july \n",
    "julyList = []\n",
    "\n",
    "#iterate through every 7 items\n",
    "for count2 in range(math.floor(len(date)/7)):\n",
    "    date2 = date[count + (count2*7)]\n",
    "    month = date2[0]\n",
    "    \n",
    "    if(month == \"7\"):\n",
    "        julyList.append(count + (count2*7))\n",
    "\n",
    "#average the amount of westbound and eastbound bikes on fridays in the month of july        \n",
    "julyWest = []\n",
    "julyEast = []\n",
    "julyFri = []\n",
    "for count3 in range(len(julyList)):\n",
    "    julyWest.append(west[julyList[count3]])\n",
    "    julyEast.append(east[julyList[count3]])\n",
    "    julyFri.append(west[julyList[count3]] + east[julyList[count3]])\n",
    "print(math.floor(stat.mean(julyWest)), \"= average number of bikes going west on the fremont bridge on a Friday in July\")\n",
    "print(math.floor(stat.mean(julyEast)), \"= average number of bikes going east on the fremont bridge on a Friday in July\")\n",
    "print(math.floor(stat.mean(julyFri)), \"= average number of bikes crossing the Fremont bridge on a Friday in July\")"
   ]
  },
  {
   "cell_type": "markdown",
   "metadata": {
    "collapsed": true
   },
   "source": [
    "This data has given me a solid prediction for how many bikes will cross the fremont bridge on a friday in july this year.  This is based off of the data of how many bikes on average crossed the bridge on past Fridays in july.  I used the average number of bikes frossing the bridge on the past fridays in July in order to have a large sample of data that should be similar to what I should expect in July on a friday in 2016.  After doing this lab my prediction for the amount of bikes crossing the Fremont Bridge in July is 3671 bikes."
   ]
  }
 ],
 "metadata": {
  "kernelspec": {
   "display_name": "Python 3",
   "language": "python",
   "name": "python3"
  },
  "language_info": {
   "codemirror_mode": {
    "name": "ipython",
    "version": 3
   },
   "file_extension": ".py",
   "mimetype": "text/x-python",
   "name": "python",
   "nbconvert_exporter": "python",
   "pygments_lexer": "ipython3",
   "version": "3.5.1"
  }
 },
 "nbformat": 4,
 "nbformat_minor": 0
}
