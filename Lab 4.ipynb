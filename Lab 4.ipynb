{
 "cells": [
  {
   "cell_type": "markdown",
   "metadata": {},
   "source": [
    "## Bad Drivers in the United States, How do Fatal Collisions Vary per State and Why? (2012)"
   ]
  },
  {
   "cell_type": "markdown",
   "metadata": {},
   "source": [
    "In this lab I investigate fatal collisions in states and the United States as a whole.  I look into correlation between insurance premiums and losses, whether alcohol or speeding cause more fatal collisions, if fatal collisions more commonly happen to people with past accidents, and if most fatal collisions also include distracted driving.  I will answer these questions using for loops, pearson r, mean and median.\n",
    "\n",
    "This is the citation for the dataset I used:\n",
    "         Flowers, Andrew. Bad Drivers. N.p.: Fivethirtyeight, n.d. Csv."
   ]
  },
  {
   "cell_type": "markdown",
   "metadata": {},
   "source": [
    "Questions to answer:\n",
    "    1. Do people who have higher premiums cause more losses for insurance companies?\n",
    "    2. Does speeding or alcohol cause more fatal collisions per state?\n",
    "    3. Do fatal collisions happen more often to people who have past accidents?\n",
    "    4. What percentage of people that are involved in fatal accidents were not distracted?\n",
    "    \n",
    "*In this data Washington D.C. is represented as a state, so there are 51 states represented by this data"
   ]
  },
  {
   "cell_type": "code",
   "execution_count": 25,
   "metadata": {
    "collapsed": false
   },
   "outputs": [
    {
     "name": "stdout",
     "output_type": "stream",
     "text": [
      "Pearson r correlation coefficient, p value (0.62311643851970677, 1.0426938551798321e-06)\n",
      "134.49313725490197\n",
      "886.9576470588235\n"
     ]
    },
    {
     "data": {
      "text/plain": [
       "<matplotlib.text.Text at 0x109cc92e8>"
      ]
     },
     "execution_count": 25,
     "metadata": {},
     "output_type": "execute_result"
    },
    {
     "data": {
      "image/png": "[encoded data removed]",
      "text/plain": [
       "<matplotlib.figure.Figure at 0x109424f60>"
      ]
     },
     "metadata": {},
     "output_type": "display_data"
    }
   ],
   "source": [
    "#Max Gregg, Period 7, Big Data and Analytics\n",
    "import scipy.stats\n",
    "import matplotlib.pyplot as plt\n",
    "%matplotlib inline \n",
    "import statistics as stat\n",
    "\n",
    "#open datafile and create new list for data in the file\n",
    "data_file = open(\"baddrivers.csv\")\n",
    "data_list = []\n",
    "for a in data_file:\n",
    "    data_list.append(a);\n",
    "    \n",
    "del data_list[0]\n",
    "\n",
    "pre_list = []\n",
    "for b in data_list:\n",
    "    b = b.split(\",\");\n",
    "    pre_list.append(float(b[6]));\n",
    "\n",
    "los_list = []\n",
    "for c in data_list:\n",
    "    c = c.split(\",\");\n",
    "    los_list.append(float(c[7]))\n",
    "\n",
    "print(\"Pearson r correlation coefficient, p value\", scipy.stats.pearsonr(pre_list, los_list))\n",
    "print(stat.mean(los_list))\n",
    "print(stat.mean(pre_list))\n",
    "plt.scatter(pre_list, los_list)\n",
    "plt.xlabel(\"Car Insurance Premiums\")\n",
    "plt.ylabel(\"Car Insurance Losses\")\n",
    "plt.title(\"Car Insurance Premiums vs Losses\")"
   ]
  },
  {
   "cell_type": "markdown",
   "metadata": {},
   "source": [
    "In this first test I wanted to investigate how correlated car insurace premiums were to the actual car insurance companies losses.  In my code I decided to use the pearson r test to find the correlation coefficient between the two statistics.  I also used a scatter plot to look see if the correlation looked to be directly or indirectly proportional.  There was a decent directly proportional correlation as you can see in the scatter plot and enough correlation to conclude an analysis.  This data tells me that there is a slight correlation between car insurance premiums and insurance companies losses.  This means that when car insurance companies make their premiums for people in a certain state, if the premium is high then it is likely that person in that state will cause the company more losses than someone whose premium is low.  This reinforces car insurance companies for assigning higher premiums for certain drivers since the bad driving of high premium drivers does normally cause more losses for the company in the United States."
   ]
  },
  {
   "cell_type": "code",
   "execution_count": 26,
   "metadata": {
    "collapsed": false
   },
   "outputs": [
    {
     "name": "stdout",
     "output_type": "stream",
     "text": [
      "Percentage of difference between the amount of drivers who were under the influence of alcohol vs speeding: 1.0392156862745099\n",
      "Median of the data set of the differences between drivers who were under the influence of alcohol vs speeding: 2.0\n"
     ]
    }
   ],
   "source": [
    "spe_list = []\n",
    "for d in data_list:\n",
    "    d = d.split(\",\");\n",
    "    spe_list.append(float(d[2]));\n",
    "\n",
    "alc_list = []\n",
    "for e in data_list:\n",
    "    e = e.split(\",\");\n",
    "    alc_list.append(float(e[3]))\n",
    "\n",
    "spe_vs_alc = []\n",
    "for f in range(len(spe_list)):\n",
    "    spe_vs_alc.append(spe_list[f] - alc_list[f])\n",
    "    \n",
    "print(\"Percentage of difference between the amount of drivers who were under the influence of alcohol vs speeding:\", stat.mean(spe_vs_alc))\n",
    "print(\"Median of the data set of the differences between drivers who were under the influence of alcohol vs speeding:\", stat.median(spe_vs_alc))"
   ]
  },
  {
   "cell_type": "markdown",
   "metadata": {},
   "source": [
    "In this segment of code I investigated the difference in fatal collisions due to alcohol and speeding.  What I wanted to find out was which form of dangerous driving causes more fatal accidents.  In summing up this data I found that the difference between fatal speeding collisions and fatal alcohol impaired collisions was only 1% in the United States.  This tells me that there is about the same amount of danger while driving drunk and speeding.  The issue with this assesment is I have no way to decipher overlaps in the data.  Im sure that there was data taken that was a fatal collision with both speeding and alcohol use.  I could not find a way to deal with this possibility so we will have to assume this data is pure.  By pure I mean that there is no overlap between the data sets."
   ]
  },
  {
   "cell_type": "code",
   "execution_count": 27,
   "metadata": {
    "collapsed": false
   },
   "outputs": [
    {
     "name": "stdout",
     "output_type": "stream",
     "text": [
      "Differences of values for each state based on fatalities due to speeding vs due to alcohol impaired driving: Positive values mean more speeding fatalities than alcohol and negative values are more alcohol fatalities; [9.0, 16.0, 7.0, -8.0, 7.0, 9.0, 10.0, 8.0, 7.0, -8.0, -6.0, 13.0, 7.0, 2.0, -4.0, -8.0, 3.0, -4.0, 2.0, 8.0, 2.0, -12.0, -4.0, -6.0, -16.0, 9.0, -5.0, -22.0, 5.0, 5.0, -12.0, -8.0, 3.0, 8.0, -19.0, -6.0, 3.0, 7.0, 19.0, -4.0, -3.0, -2.0, -8.0, 2.0, 27.0, 0.0, -8.0, 9.0, 6.0, 3.0, 10.0]\n"
     ]
    }
   ],
   "source": [
    "spe_list = []\n",
    "for d in data_list:\n",
    "    d = d.split(\",\");\n",
    "    spe_list.append(float(d[2]));\n",
    "\n",
    "alc_list = []\n",
    "for e in data_list:\n",
    "    e = e.split(\",\");\n",
    "    alc_list.append(float(e[3]))\n",
    "\n",
    "spe_vs_alc = []\n",
    "for f in range(len(spe_list)):\n",
    "    spe_vs_alc.append(spe_list[f] - alc_list[f])\n",
    "\n",
    "print(\"Differences of values for each state based on fatalities due to speeding vs due to alcohol impaired driving: Positive values mean more speeding fatalities than alcohol and negative values are more alcohol fatalities;\", spe_vs_alc)"
   ]
  },
  {
   "cell_type": "markdown",
   "metadata": {},
   "source": [
    "In this code I found the same speed and alcohol lists but instead of averaging them and combining them to get the United States average, I left them state by state to examine which states have different values.  I still subtracted the speed values from the alcohol values but this but this time I left the output state by state. The ouput of this code gives me the difference in percentage values for each state in alphabetical order.  The first value [9.0] is the difference in percantage between fatal collisions due to speed and alcohol in Alabama.  This means that Alabama had 9% more fatal accidents due to speeding than alcohol in 2012.  Positive outputs mean there were that percentage more speeding accidents and negative values mean that percentage more alcohol accidents.  This data was very intersesting to me because there was some states with very skewed numbers and other states with numbers that are similar to the U.S. numbers.  This is common in almost any data set but to me it is interesting because of why some states were so different than others.  For instance, Nebraska has 22% more fatal collisions due to alcohol than speeding, whereas Alaska has 16% more fatal speeding collisions than alcohol collisions."
   ]
  },
  {
   "cell_type": "code",
   "execution_count": 28,
   "metadata": {
    "collapsed": false
   },
   "outputs": [
    {
     "name": "stdout",
     "output_type": "stream",
     "text": [
      "Average percentage of fatal accidents that occured to people who had no previous accidents 88.72549019607843\n",
      "Percentage of people per state who were involved in a fatal accident with no previous acident in their record; [80.0, 94.0, 96.0, 95.0, 89.0, 95.0, 82.0, 99.0, 100.0, 94.0, 93.0, 87.0, 98.0, 96.0, 95.0, 87.0, 85.0, 76.0, 98.0, 84.0, 99.0, 80.0, 77.0, 88.0, 100.0, 84.0, 85.0, 90.0, 99.0, 83.0, 78.0, 98.0, 80.0, 81.0, 86.0, 82.0, 94.0, 90.0, 88.0, 79.0, 81.0, 86.0, 81.0, 87.0, 96.0, 95.0, 88.0, 86.0, 87.0, 84.0, 90.0]\n"
     ]
    }
   ],
   "source": [
    "prev_acident = []\n",
    "for g in data_list:\n",
    "    g = g.split(\",\");\n",
    "    prev_acident.append(float(g[5]))\n",
    "\n",
    "print(\"Average percentage of fatal accidents that occured to people who had no previous accidents\", stat.mean(prev_acident))\n",
    "print(\"Percentage of people per state who were involved in a fatal accident with no previous acident in their record;\", prev_acident)"
   ]
  },
  {
   "cell_type": "markdown",
   "metadata": {},
   "source": [
    "In this code I made a simple list for each state to see the percentage of drivers who were involved in fatal collisions who had not had any previous records of an accident.  This data was very interesting and makes me consider two things in particular.  In not having a past acident this could either mean that the people in these accidents are very young and/or inexperienced, or most fatal collisions happen during freak accidents and normally not involving reckless driving.  Maybe as well there could be lurking variables like seatbelt wearing and windows rolled up or down that could speak a little more to this analysis.  The fact that 88.7% of fatal collisions in the U.S. happen to people with no previous accidents seems weird so there must be other factors contibuting to this situation."
   ]
  },
  {
   "cell_type": "code",
   "execution_count": 29,
   "metadata": {
    "collapsed": false
   },
   "outputs": [
    {
     "name": "stdout",
     "output_type": "stream",
     "text": [
      "Percentage of fatal collisions in which the driver was not distracted during the accident 85.92156862745098\n",
      "Percentage of drivers per state in which were not distracted during their fatal collision; [96.0, 90.0, 84.0, 94.0, 91.0, 79.0, 87.0, 87.0, 100.0, 92.0, 95.0, 82.0, 85.0, 94.0, 95.0, 97.0, 77.0, 78.0, 73.0, 87.0, 71.0, 87.0, 95.0, 88.0, 10.0, 92.0, 84.0, 93.0, 95.0, 87.0, 86.0, 67.0, 88.0, 94.0, 99.0, 99.0, 92.0, 67.0, 96.0, 92.0, 96.0, 98.0, 82.0, 91.0, 88.0, 96.0, 87.0, 82.0, 97.0, 39.0, 81.0]\n"
     ]
    }
   ],
   "source": [
    "distracted = []\n",
    "for h in data_list:\n",
    "    h = h.split(\",\")\n",
    "    distracted.append(float(h[4]))\n",
    "\n",
    "print(\"Percentage of fatal collisions in which the driver was not distracted during the accident\", stat.mean(distracted))\n",
    "print(\"Percentage of drivers per state in which were not distracted during their fatal collision;\", distracted)"
   ]
  },
  {
   "cell_type": "markdown",
   "metadata": {
    "collapsed": true
   },
   "source": [
    "This simple list tells me the percentage of drivers per state who were involved in fatal collisons and were not distracted during.  To me the results of this list were the most interesting.  This list ranges from 100% (Washington D.C.) to 10% (Mississippi).  This was confusing for me, why one state would be so high and another so low in this catergory.  I was thinking about possible variables that could cause this difference.  Mississippi [10%] and Wisconsin [39%] were the most distracted states in this study.  After looking into distracted driving laws it happens these two states are some of the few states that do not ban hand-held cellphone usage for adults while driving.  This may be one of the reasons these states would have such different data than the others.  The average for this data set is ~86% and these are the only two states that are true outliers."
   ]
  },
  {
   "cell_type": "markdown",
   "metadata": {},
   "source": [
    "Questions to answer:\n",
    "\n",
    "A.      Do states who have higher car insurance premiums have more losses for insurance companies?\n",
    "\n",
    "The answer to this question based on this data is yes, people in states with higher premiums do cause more losses for the insurance company.  Although this correlation is true the premiums vs actual losses are no where near equivalent.  The average loss in the Uniter States for insurance companies was 134.49 dollars in 2012.  The average premium in the United States in 2012 was 886.96 dollars.  So, in conslusion, car insurance premiums do correlate with losses for the companies.\n",
    "\n",
    "B.      Does speeding or alcohol cause more fatal collisions per state?\n",
    "\n",
    "In the United States, speeding caused for 1% more fatal collisions in 2012 than alcohol.  That being said there were many different values for each state that went against or with the national average.  29 states have speeding as a larger cause of fatal collisions than Alcohol.  21 states have alcohol as a larger cause of fatal collisions.  And only one state had the exact same amount of speeding caused fatal collisions as alcohol, that state is Vermont.  Overall speeding does have a larger effect on fatal collisions than alcohol but the difference is small enough to conclude that they have about the same effect on the population of the United States.\n",
    "\n",
    "C.      Do fatal collisions happen more often to people who have past accidents?\n",
    "\n",
    "To answer this question in short, no. In fact it's quite the opposite.  88.7% of fatal collisions happen to people who have no prevous record of an accident.  To me this speaks to lurking variables I havent visited.  Inexperience cannot be the only factor in why this data is so skewed.  But according to my data fatal collisions happen about 73% more often to people with no previous accidents.\n",
    "\n",
    "D.      What percentage of people that are involved in fatal accidents were not distracted?\n",
    "\n",
    "This data set was to me the most interesting of the data I looked at.  This is because there were outliers in a data set where you wouldn't expect it.  85.9% of drivers were not distracted during their fatal collisions, but in Mississippi only 10% of drivers in fatal accidents were not distracted.  The other 90% was distracted during their collisions.  This data confused me because this outlier is in a data set that seems like the conditions would not change from state to state.  Although Mississippi and Wisconsin [39%] were outliers to the data there was still enough data to make a conclusion that more people who were distraction free were in fatal accidents."
   ]
  }
 ],
 "metadata": {
  "kernelspec": {
   "display_name": "Python 3",
   "language": "python",
   "name": "python3"
  },
  "language_info": {
   "codemirror_mode": {
    "name": "ipython",
    "version": 3
   },
   "file_extension": ".py",
   "mimetype": "text/x-python",
   "name": "python",
   "nbconvert_exporter": "python",
   "pygments_lexer": "ipython3",
   "version": "3.5.1"
  }
 },
 "nbformat": 4,
 "nbformat_minor": 0
}
