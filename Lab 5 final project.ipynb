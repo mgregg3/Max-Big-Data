{
 "cells": [
  {
   "cell_type": "code",
   "execution_count": 27,
   "metadata": {
    "collapsed": false,
    "scrolled": true
   },
   "outputs": [
    {
     "name": "stdout",
     "output_type": "stream",
     "text": [
      "Accuracy: 50.0%\n"
     ]
    }
   ],
   "source": [
    "# -*- coding: utf-8 -*-\n",
    "\"\"\"\n",
    "K-nearest neighbors algorithm\n",
    "Jason Brownlee, http://machinelearningmastery.com/tutorial-to-implement-k-nearest-neighbors-in-python-from-scratch/\n",
    "Implemented by Emma Anderson\n",
    "Written for the Iris dataset\n",
    "ReWritten by Maxwel Gregg for Lab 5 Final Project\n",
    "\"\"\"\n",
    "import csv\n",
    "import random\n",
    "import math\n",
    "import operator\n",
    "\n",
    "\n",
    "def euclideanDistance(item1, item2, attributes):\n",
    "    distance = 0\n",
    "    for x in range(attributes):\n",
    "        distance+=(item1[x] - item2[x])**2\n",
    "    return math.sqrt(distance)\n",
    "\n",
    "def getNeighbors(trainingSet, test, k):\n",
    "    distances = []\n",
    "    length = len(test) - 1\n",
    "    for x in range(len(trainingSet)):\n",
    "        dist = euclideanDistance(test, trainingSet[x], length)\n",
    "        distances.append((trainingSet[x], dist))\n",
    "    #sort on the distance, not the data point\n",
    "    distances.sort(key = operator.itemgetter(1))\n",
    "    neighbors = []\n",
    "    for x in range(k):\n",
    "        neighbors.append(distances[x][0])\n",
    "    return neighbors\n",
    "\n",
    "def getResponse(neighbors):\n",
    "    classVotes = {}\n",
    "    for x in range(len(neighbors)):\n",
    "        response = neighbors[x][-1]\n",
    "        if response in classVotes:\n",
    "            classVotes[response]+=1\n",
    "        else:\n",
    "            classVotes[response] = 1\n",
    "    sortedVotes = sorted(classVotes.items(), key=operator.itemgetter(1), reverse = True)\n",
    "    return sortedVotes[0][0]\n",
    "\n",
    "def getAccuracy(testSet, predictions):\n",
    "    correct = 0\n",
    "    for x in range(len(testSet)):\n",
    "        if testSet[x][-1] == predictions[x]:\n",
    "            correct+=1\n",
    "    return (correct/float(len(testSet)))*100.0\n",
    "\n",
    "def loadDataset(filename, split, trainingSet, testSet):    \n",
    "    with open(filename, 'r') as csvfile:\n",
    "        lines = csv.reader(csvfile)\n",
    "        dataset = list(lines)\n",
    "        for x in range(1, len(dataset)-1):\n",
    "            #this needs changing for other datasets\n",
    "            del dataset[x][0];\n",
    "            del dataset[x][1];\n",
    "            del dataset[x][3];\n",
    "            for y in range(0, 3):\n",
    "                dataset[x][y] = float(dataset[x][y])\n",
    "            if random.random() < split:\n",
    "                trainingSet.append(dataset[x])\n",
    "            else:\n",
    "                testSet.append(dataset[x])\n",
    "\n",
    "def main():\n",
    "    trainingSet = []\n",
    "    testSet = []\n",
    "    split = 0.97\n",
    "    loadDataset('Startups.csv', split, trainingSet, testSet)\n",
    "    \n",
    "    predictions = []\n",
    "    k = 3\n",
    "    for x in range(len(testSet)):\n",
    "        neighbors = getNeighbors(trainingSet, testSet[x], k)\n",
    "        result = getResponse(neighbors)\n",
    "        predictions.append(result)\n",
    "        #print('predicted:' + str(result) + ', actual:'+str(testSet[x][-1]))\n",
    "    accuracy = getAccuracy(testSet, predictions)\n",
    "    print('Accuracy: ' + str(accuracy) + '%')\n",
    "\n",
    "main()"
   ]
  },
  {
   "cell_type": "markdown",
   "metadata": {
    "collapsed": true
   },
   "source": [
    "My average accuracy running K-Nearest Neighbors was around 50%. This is not sufficient for a true analysis and tells me a few things about my data.  It tells me that my data is not significant enough for the computer to decifer whether a startup will succeed or fail.  The factors that went into the test were, the year the company started, the state where it started, and what season it started in. This data proved to not be significant enough to the success of a startup to make any true conclusions.  If the values were closely correlated to successful or non successful companies then the accuracy of the K-Nearest Neighbors would be much higher.  This is because the computer would be able to tell from the values if the company was successful or not."
   ]
  },
  {
   "cell_type": "code",
   "execution_count": 34,
   "metadata": {
    "collapsed": false
   },
   "outputs": [
    {
     "name": "stdout",
     "output_type": "stream",
     "text": [
      "California companies = 375\n",
      "New York companies = 34\n",
      "Colorado companies = 1\n",
      "New Jersey companies = 1\n",
      "Illinois companies = 4\n",
      "Massachusetts companies = 9\n",
      "Texas companies = 2\n",
      "Maryland companies = 4\n",
      "Washington companies = 5\n",
      "Michigan companies = 3\n",
      "Minnesota companies = 1\n",
      "Georgia companies = 2\n",
      "Tennesee companies = 1\n",
      "Arkansas companies = 1\n",
      "Delaware companies = 1\n",
      "Virginia companies = 1\n",
      "Florida companies = 1\n",
      "Ohio companies = 1\n",
      "Pennsylvania companies = 1\n",
      "Oregon companies = 1\n",
      "Rhode Island companies = 1\n",
      "International companies = 34\n",
      "Nondisclosed companies = 131\n"
     ]
    }
   ],
   "source": [
    "#make lists of where the companies were started.\n",
    "import csv\n",
    "f = open(\"Startups.csv\")\n",
    "csv_f = csv.reader(f)\n",
    "cali = (sum(1 for row in csv_f if row[6]=='0'))\n",
    "\n",
    "f = open(\"Startups.csv\")\n",
    "csv_f = csv.reader(f)\n",
    "newyork = (sum(1 for row in csv_f if row[6]=='1'))\n",
    "\n",
    "f = open(\"Startups.csv\")\n",
    "csv_f = csv.reader(f)\n",
    "colorado = (sum(1 for row in csv_f if row[6]=='2'))\n",
    "\n",
    "f = open(\"Startups.csv\")\n",
    "csv_f = csv.reader(f)\n",
    "newjersey = (sum(1 for row in csv_f if row[6]=='3'))\n",
    "\n",
    "f = open(\"Startups.csv\")\n",
    "csv_f = csv.reader(f)\n",
    "illinois = (sum(1 for row in csv_f if row[6]=='4'))\n",
    "\n",
    "f = open(\"Startups.csv\")\n",
    "csv_f = csv.reader(f)\n",
    "massachusetts = (sum(1 for row in csv_f if row[6]=='5'))\n",
    "\n",
    "f = open(\"Startups.csv\")\n",
    "csv_f = csv.reader(f)\n",
    "texas = (sum(1 for row in csv_f if row[6]=='6'))\n",
    "\n",
    "f = open(\"Startups.csv\")\n",
    "csv_f = csv.reader(f)\n",
    "maryland = (sum(1 for row in csv_f if row[6]=='7'))\n",
    "\n",
    "f = open(\"Startups.csv\")\n",
    "csv_f = csv.reader(f)\n",
    "washington = (sum(1 for row in csv_f if row[6]=='8'))\n",
    "\n",
    "f = open(\"Startups.csv\")\n",
    "csv_f = csv.reader(f)\n",
    "michigan = (sum(1 for row in csv_f if row[6]=='9'))\n",
    "\n",
    "f = open(\"Startups.csv\")\n",
    "csv_f = csv.reader(f)\n",
    "minnesota = (sum(1 for row in csv_f if row[6]=='10'))\n",
    "\n",
    "f = open(\"Startups.csv\")\n",
    "csv_f = csv.reader(f)\n",
    "georgia = (sum(1 for row in csv_f if row[6]=='11'))\n",
    "\n",
    "f = open(\"Startups.csv\")\n",
    "csv_f = csv.reader(f)\n",
    "tennesee = (sum(1 for row in csv_f if row[6]=='12'))\n",
    "\n",
    "f = open(\"Startups.csv\")\n",
    "csv_f = csv.reader(f)\n",
    "arkansas = (sum(1 for row in csv_f if row[6]=='13'))\n",
    "\n",
    "f = open(\"Startups.csv\")\n",
    "csv_f = csv.reader(f)\n",
    "delaware = (sum(1 for row in csv_f if row[6]=='14'))\n",
    "\n",
    "f = open(\"Startups.csv\")\n",
    "csv_f = csv.reader(f)\n",
    "virginia = (sum(1 for row in csv_f if row[6]=='15'))\n",
    "\n",
    "f = open(\"Startups.csv\")\n",
    "csv_f = csv.reader(f)\n",
    "florida = (sum(1 for row in csv_f if row[6]=='16'))\n",
    "\n",
    "f = open(\"Startups.csv\")\n",
    "csv_f = csv.reader(f)\n",
    "ohio = (sum(1 for row in csv_f if row[6]=='17'))\n",
    "\n",
    "f = open(\"Startups.csv\")\n",
    "csv_f = csv.reader(f)\n",
    "pennsylvania = (sum(1 for row in csv_f if row[6]=='18'))\n",
    "\n",
    "f = open(\"Startups.csv\")\n",
    "csv_f = csv.reader(f)\n",
    "oregon = (sum(1 for row in csv_f if row[6]=='19'))\n",
    "\n",
    "f = open(\"Startups.csv\")\n",
    "csv_f = csv.reader(f)\n",
    "rhodeisland = (sum(1 for row in csv_f if row[6]=='20'))\n",
    "\n",
    "f = open(\"Startups.csv\")\n",
    "csv_f = csv.reader(f)\n",
    "international = (sum(1 for row in csv_f if row[6]=='21'))\n",
    "\n",
    "f = open(\"Startups.csv\")\n",
    "csv_f = csv.reader(f)\n",
    "nondisclosed = (sum(1 for row in csv_f if row[6]=='22'))\n",
    "\n",
    "print(\"California companies =\", cali)\n",
    "print(\"New York companies =\", newyork)\n",
    "print(\"Colorado companies =\", colorado)\n",
    "print(\"New Jersey companies =\", newjersey)\n",
    "print(\"Illinois companies =\", illinois)\n",
    "print(\"Massachusetts companies =\", massachusetts)\n",
    "print(\"Texas companies =\", texas)\n",
    "print(\"Maryland companies =\", maryland)\n",
    "print(\"Washington companies =\", washington)\n",
    "print(\"Michigan companies =\", michigan)\n",
    "print(\"Minnesota companies =\", minnesota)\n",
    "print(\"Georgia companies =\", georgia)\n",
    "print(\"Tennesee companies =\", tennesee)\n",
    "print(\"Arkansas companies =\", arkansas)\n",
    "print(\"Delaware companies =\", delaware)\n",
    "print(\"Virginia companies =\", virginia)\n",
    "print(\"Florida companies =\", florida)\n",
    "print(\"Ohio companies =\", ohio)\n",
    "print(\"Pennsylvania companies =\", pennsylvania)\n",
    "print(\"Oregon companies =\", oregon)\n",
    "print(\"Rhode Island companies =\", rhodeisland)\n",
    "print(\"International companies =\", international)\n",
    "print(\"Nondisclosed companies =\", nondisclosed)"
   ]
  },
  {
   "cell_type": "markdown",
   "metadata": {},
   "source": [
    "These are the numbers of the amount of recorded startups from each state in the dataset."
   ]
  },
  {
   "cell_type": "code",
   "execution_count": 36,
   "metadata": {
    "collapsed": false
   },
   "outputs": [
    {
     "name": "stdout",
     "output_type": "stream",
     "text": [
      "Amount of operating companies 452\n",
      "Amount of exited companies 80\n",
      "Amount of dead companies 85\n"
     ]
    }
   ],
   "source": [
    "#make lists of if companies are successful or not.\n",
    "f = open(\"Startups.csv\")\n",
    "csv_f = csv.reader(f)\n",
    "operating = (sum(1 for row in csv_f if row[1]=='0'))\n",
    "\n",
    "f = open(\"Startups.csv\")\n",
    "csv_f = csv.reader(f)\n",
    "exited = (sum(1 for row in csv_f if row[1]=='1'))\n",
    "\n",
    "f = open(\"Startups.csv\")\n",
    "csv_f = csv.reader(f)\n",
    "dead = (sum(1 for row in csv_f if row[1]=='2'))\n",
    "\n",
    "print(\"Amount of operating companies\", operating)\n",
    "print(\"Amount of exited companies\", exited)\n",
    "print(\"Amount of dead companies\", dead)"
   ]
  },
  {
   "cell_type": "markdown",
   "metadata": {},
   "source": [
    "These are the amounts of companies that were successful or failed.  Exited is a term for a company being bought, which is considered a success in the business world.  Operating is a company who is still operating, and dead is a company that failed."
   ]
  },
  {
   "cell_type": "code",
   "execution_count": 37,
   "metadata": {
    "collapsed": false
   },
   "outputs": [
    {
     "name": "stdout",
     "output_type": "stream",
     "text": [
      "Summer startups = 342\n",
      "Winter startups = 275\n"
     ]
    }
   ],
   "source": [
    "#make lists of what season these companies were started in.\n",
    "f = open(\"Startups.csv\")\n",
    "csv_f = csv.reader(f)\n",
    "summer = (sum(1 for row in csv_f if row[4]=='0'))\n",
    "\n",
    "f = open(\"Startups.csv\")\n",
    "csv_f = csv.reader(f)\n",
    "winter = (sum(1 for row in csv_f if row[4]=='1'))\n",
    "\n",
    "print(\"Summer startups =\", summer)\n",
    "print(\"Winter startups =\", winter)"
   ]
  },
  {
   "cell_type": "markdown",
   "metadata": {},
   "source": [
    "These are the numbers of how many startups started in the summer and how many in the winter."
   ]
  },
  {
   "cell_type": "code",
   "execution_count": 38,
   "metadata": {
    "collapsed": false
   },
   "outputs": [
    {
     "name": "stdout",
     "output_type": "stream",
     "text": [
      "Companies started in 2005 = 8\n",
      "Companies started in 2006 = 17\n",
      "Companies started in 2007 = 32\n",
      "Companies started in 2008 = 43\n",
      "Companies started in 2009 = 39\n",
      "Companies started in 2010 = 61\n",
      "Companies started in 2011 = 99\n",
      "Companies started in 2012 = 126\n",
      "Companies started in 2013 = 85\n",
      "Companies started in 2014 = 107\n"
     ]
    }
   ],
   "source": [
    "#Make lists of all the data on what year the companies from this dataset were started.\n",
    "f = open(\"Startups.csv\")\n",
    "csv_f = csv.reader(f)\n",
    "twofive = (sum(1 for row in csv_f if row[3]=='0'))\n",
    "\n",
    "f = open(\"Startups.csv\")\n",
    "csv_f = csv.reader(f)\n",
    "twosix = (sum(1 for row in csv_f if row[3]=='1'))\n",
    "\n",
    "f = open(\"Startups.csv\")\n",
    "csv_f = csv.reader(f)\n",
    "twoseven = (sum(1 for row in csv_f if row[3]=='2'))\n",
    "\n",
    "f = open(\"Startups.csv\")\n",
    "csv_f = csv.reader(f)\n",
    "twoeight = (sum(1 for row in csv_f if row[3]=='3'))\n",
    "\n",
    "f = open(\"Startups.csv\")\n",
    "csv_f = csv.reader(f)\n",
    "twonine = (sum(1 for row in csv_f if row[3]=='4'))\n",
    "\n",
    "f = open(\"Startups.csv\")\n",
    "csv_f = csv.reader(f)\n",
    "twoten = (sum(1 for row in csv_f if row[3]=='5'))\n",
    "\n",
    "f = open(\"Startups.csv\")\n",
    "csv_f = csv.reader(f)\n",
    "twoeleven = (sum(1 for row in csv_f if row[3]=='6'))\n",
    "\n",
    "f = open(\"Startups.csv\")\n",
    "csv_f = csv.reader(f)\n",
    "twotwelve = (sum(1 for row in csv_f if row[3]=='7'))\n",
    "\n",
    "f = open(\"Startups.csv\")\n",
    "csv_f = csv.reader(f)\n",
    "twothirteen = (sum(1 for row in csv_f if row[3]=='8'))\n",
    "\n",
    "f = open(\"Startups.csv\")\n",
    "csv_f = csv.reader(f)\n",
    "twofourteen = (sum(1 for row in csv_f if row[3]=='9'))\n",
    "\n",
    "print(\"Companies started in 2005 =\", twofive)\n",
    "print(\"Companies started in 2006 =\", twosix)\n",
    "print(\"Companies started in 2007 =\", twoseven)\n",
    "print(\"Companies started in 2008 =\", twoeight)\n",
    "print(\"Companies started in 2009 =\", twonine)\n",
    "print(\"Companies started in 2010 =\", twoten)\n",
    "print(\"Companies started in 2011 =\", twoeleven)\n",
    "print(\"Companies started in 2012 =\", twotwelve)\n",
    "print(\"Companies started in 2013 =\", twothirteen)\n",
    "print(\"Companies started in 2014 =\", twofourteen)"
   ]
  },
  {
   "cell_type": "markdown",
   "metadata": {},
   "source": [
    "Number of companies started in various years in the dataset."
   ]
  },
  {
   "cell_type": "markdown",
   "metadata": {},
   "source": [
    "Reflection:  When I started this project, my intentions were to figure out what basic factors make a large difference in Startup compnaies success or failure.  I foud a dataset online that gave information about where a company was started, whether it was started in the summer or winter, what year it was started, and whether it is still running, got bought, or dead.  This is something I am interested in because business in general intrests me and it is cool to put this in a larger light.  There are so many things that we consider common knowledge involving business.  So many things that we assume good business tactics.  For instance, people think it is smarter to start a company in califonia because there is a lot of innovation and other startups that have been successful there.  So I investigated using K-nearest Neighbors to find if there is any correlation between the features.  Essentially if I got a high accuracy that would mean that the startups statistics would be varied based on success and successful companies would have similar traits and failed companies would have similar traits.  My accuracy was around 50% for my K-NN test.  This tells me that the features that are in my dataset are not significant enough for the computer to decifer between successful and failure companies.  Basically if two companies started in new york, in the same season, in the same year, they may have completely different values of success.  This was slightly dissapointing because this means I could not find which of these features are important for startup companies to succeed. But, by telling me what I didn't know, it also tells me what I do know.  What I do now know is that there are other factors that are much more important for the success of a startup company then where its from or what season/year it was started in. If I did some more reasurch and was maybe able to integerize some statistics like bussiness connections, and who and when and how much funding came in, I would be able to tell more about factors of startup success.  But in this lab, all I can say is a startup's success is not based on where and when it starts even though it is known as a common business tactic to strategically start your company based on these factors."
   ]
  },
  {
   "cell_type": "code",
   "execution_count": null,
   "metadata": {
    "collapsed": true
   },
   "outputs": [],
   "source": []
  }
 ],
 "metadata": {
  "kernelspec": {
   "display_name": "Python 3",
   "language": "python",
   "name": "python3"
  },
  "language_info": {
   "codemirror_mode": {
    "name": "ipython",
    "version": 3
   },
   "file_extension": ".py",
   "mimetype": "text/x-python",
   "name": "python",
   "nbconvert_exporter": "python",
   "pygments_lexer": "ipython3",
   "version": "3.5.1"
  }
 },
 "nbformat": 4,
 "nbformat_minor": 0
}
